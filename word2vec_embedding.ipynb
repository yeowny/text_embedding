{
 "cells": [
  {
   "cell_type": "code",
   "execution_count": 2,
   "metadata": {},
   "outputs": [
    {
     "name": "stdout",
     "output_type": "stream",
     "text": [
      "['어릴때보고 지금다시봐도 재밌어요ㅋㅋ'\n",
      " '디자인을 배우는 학생으로, 외국디자이너와 그들이 일군 전통을 통해 발전해가는 문화산업이 부러웠는데. 사실 우리나라에서도 그 어려운시절에 끝까지 열정을 지킨 노라노 같은 전통이있어 저와 같은 사람들이 꿈을 꾸고 이뤄나갈 수 있다는 것에 감사합니다.'\n",
      " '폴리스스토리 시리즈는 1부터 뉴까지 버릴께 하나도 없음.. 최고.'\n",
      " '와.. 연기가 진짜 개쩔구나.. 지루할거라고 생각했는데 몰입해서 봤다.. 그래 이런게 진짜 영화지']\n"
     ]
    }
   ],
   "source": [
    "import pandas as pd\n",
    "\n",
    "nsmc_fname = 'ratings.txt'\n",
    "nsmc_total_data = pd.read_csv(nsmc_fname, sep='\\t')\n",
    "text_data_list = nsmc_total_data['document'].dropna().values\n",
    "\n",
    "print(text_data_list[:4])"
   ]
  },
  {
   "cell_type": "code",
   "execution_count": 3,
   "metadata": {},
   "outputs": [
    {
     "name": "stderr",
     "output_type": "stream",
     "text": [
      "100%|██████████| 199992/199992 [00:14<00:00, 14038.06it/s]\n"
     ]
    }
   ],
   "source": [
    "from tqdm import tqdm\n",
    "from gensim.models.word2vec import Word2Vec\n",
    "from konlpy.tag import Mecab; mecab=Mecab()\n",
    "\n",
    "text_data = [['<OOV>'] + mecab.morphs(xx) for xx in tqdm(text_data_list)]\n",
    "\n",
    "w2v_model_fname = 'nsmc_w2v_model.model'\n",
    "w2v_model = Word2Vec(text_data, size=256, window=10, min_count=10, sg=1)\n",
    "w2v_model.save(w2v_model_fname)"
   ]
  },
  {
   "cell_type": "code",
   "execution_count": 4,
   "metadata": {},
   "outputs": [
    {
     "name": "stdout",
     "output_type": "stream",
     "text": [
      "12066\n",
      "(256,)\n",
      "[('평정', 0.7146437168121338), ('별점', 0.6978053450584412), ('평', 0.6962314248085022), ('네티즌', 0.6213876605033875)]\n",
      "0.6978053\n"
     ]
    }
   ],
   "source": [
    "w2v_model = Word2Vec.load(w2v_model_fname)\n",
    "\n",
    "print(len(w2v_model.wv.vocab))\n",
    "\n",
    "print(w2v_model.wv['평점'].shape)\n",
    "print(w2v_model.wv.most_similar('평점', topn=4))\n",
    "print(w2v_model.wv.similarity('평점', '별점'))"
   ]
  },
  {
   "cell_type": "code",
   "execution_count": 13,
   "metadata": {},
   "outputs": [
    {
     "name": "stdout",
     "output_type": "stream",
     "text": [
      "어릴때보고 지금다시봐도 재밌어요ㅋㅋ\n",
      "['어릴', '때', '보', '고', '지금', '다시', '봐도', '재밌', '어요', 'ㅋㅋ']\n",
      "(10, 256)\n"
     ]
    }
   ],
   "source": [
    "import numpy as np\n",
    "\n",
    "print(text_data_list[0])\n",
    "print(mecab.morphs(text_data_list[0]))\n",
    "\n",
    "test_w2v_embedd = []\n",
    "for xx in mecab.morphs(text_data_list[0]):\n",
    "    try:\n",
    "        test_w2v_embedd.append(w2v_model.wv[xx])\n",
    "    except KeyError:\n",
    "        test_w2v_embedd.append(w2v_model.wv['<OOV>'])\n",
    "        \n",
    "print(np.asarray(test_w2v_embedd).shape)"
   ]
  }
 ],
 "metadata": {
  "kernelspec": {
   "display_name": "Python 3",
   "language": "python",
   "name": "python3"
  },
  "language_info": {
   "codemirror_mode": {
    "name": "ipython",
    "version": 3
   },
   "file_extension": ".py",
   "mimetype": "text/x-python",
   "name": "python",
   "nbconvert_exporter": "python",
   "pygments_lexer": "ipython3",
   "version": "3.7.4"
  }
 },
 "nbformat": 4,
 "nbformat_minor": 1
}
