{
 "cells": [
  {
   "cell_type": "code",
   "execution_count": 1,
   "metadata": {},
   "outputs": [
    {
     "name": "stdout",
     "output_type": "stream",
     "text": [
      "['어릴때보고 지금다시봐도 재밌어요ㅋㅋ'\n",
      " '디자인을 배우는 학생으로, 외국디자이너와 그들이 일군 전통을 통해 발전해가는 문화산업이 부러웠는데. 사실 우리나라에서도 그 어려운시절에 끝까지 열정을 지킨 노라노 같은 전통이있어 저와 같은 사람들이 꿈을 꾸고 이뤄나갈 수 있다는 것에 감사합니다.'\n",
      " '폴리스스토리 시리즈는 1부터 뉴까지 버릴께 하나도 없음.. 최고.'\n",
      " '와.. 연기가 진짜 개쩔구나.. 지루할거라고 생각했는데 몰입해서 봤다.. 그래 이런게 진짜 영화지']\n"
     ]
    }
   ],
   "source": [
    "import pandas as pd\n",
    "\n",
    "nsmc_fname = 'ratings.txt'\n",
    "nsmc_total_data = pd.read_csv(nsmc_fname, sep='\\t')\n",
    "text_data_list = nsmc_total_data['document'].dropna().values\n",
    "\n",
    "print(text_data_list[:4])"
   ]
  },
  {
   "cell_type": "code",
   "execution_count": 2,
   "metadata": {},
   "outputs": [
    {
     "name": "stderr",
     "output_type": "stream",
     "text": [
      "199992it [00:14, 13566.52it/s]"
     ]
    },
    {
     "name": "stdout",
     "output_type": "stream",
     "text": [
      "\n",
      " TaggedDocument(['어릴', '때', '보', '고', '지금', '다시', '봐도', '재밌', '어요', 'ㅋㅋ'], 0)\n"
     ]
    },
    {
     "name": "stderr",
     "output_type": "stream",
     "text": [
      "\n"
     ]
    }
   ],
   "source": [
    "from gensim.models.doc2vec import Doc2Vec, TaggedDocument\n",
    "from konlpy.tag import Mecab; mecab=Mecab()\n",
    "from tqdm import tqdm\n",
    "\n",
    "tagged_data = [TaggedDocument(words=mecab.morphs(xx), tags=str(ii)) for ii, xx in tqdm(enumerate(text_data_list))]\n",
    "\n",
    "print('\\n', tagged_data[0])"
   ]
  },
  {
   "cell_type": "code",
   "execution_count": 3,
   "metadata": {},
   "outputs": [
    {
     "name": "stdout",
     "output_type": "stream",
     "text": [
      "epoch : 1\n"
     ]
    },
    {
     "name": "stderr",
     "output_type": "stream",
     "text": [
      "/root/anaconda3/lib/python3.7/site-packages/ipykernel_launcher.py:13: DeprecationWarning: Call to deprecated `iter` (Attribute will be removed in 4.0.0, use self.epochs instead).\n",
      "  del sys.path[0]\n"
     ]
    },
    {
     "name": "stdout",
     "output_type": "stream",
     "text": [
      "epoch : 2\n",
      "epoch : 3\n",
      "epoch : 4\n",
      "epoch : 5\n",
      "3m 53.59s\n"
     ]
    }
   ],
   "source": [
    "import time\n",
    "\n",
    "max_epochs = 5\n",
    "d2v_model_fname = 'nsmc_d2v_model.model'\n",
    "\n",
    "d2v_model = Doc2Vec(vector_size=256, alpha=0.025, min_alpha=0.00025, min_count=10, dm=1)\n",
    "d2v_model.build_vocab(tagged_data)\n",
    "\n",
    "# d2v_model.train(tagged_data, epochs=5, total_examples=d2v_model.corpus_count)\n",
    "s_time = time.time()\n",
    "for epoch in range(max_epochs):\n",
    "    print('epoch : %d' % (epoch+1,))\n",
    "    d2v_model.train(tagged_data, total_examples=d2v_model.corpus_count, epochs=d2v_model.iter)\n",
    "\n",
    "    d2v_model.alpha -= 0.0002\n",
    "    d2v_model.min_alpha = d2v_model.alpha\n",
    "\n",
    "d2v_model.save(d2v_model_fname)\n",
    "print('%dm %.2fs' % divmod(time.time()-s_time, 60))"
   ]
  },
  {
   "cell_type": "code",
   "execution_count": 4,
   "metadata": {},
   "outputs": [
    {
     "name": "stdout",
     "output_type": "stream",
     "text": [
      "(256,)\n",
      "[('5', 0.1890677511692047), ('2', 0.15747705101966858), ('4', 0.12792299687862396), ('1', 0.11842948198318481), ('6', 0.10007698833942413), ('7', 0.09417770802974701), ('3', 0.059770748019218445), ('8', 0.02612971141934395), ('9', -0.03948981314897537)]\n",
      "(256,)\n"
     ]
    }
   ],
   "source": [
    "d2v_model = Doc2Vec.load(d2v_model_fname)\n",
    "\n",
    "print(d2v_model.infer_vector(mecab.morphs(sample_text_data_list[0])).shape)\n",
    "print(d2v_model.docvecs.most_similar(0))\n",
    "print(d2v_model.docvecs['0'].shape)"
   ]
  },
  {
   "cell_type": "code",
   "execution_count": 5,
   "metadata": {},
   "outputs": [
    {
     "name": "stdout",
     "output_type": "stream",
     "text": [
      "[('별점', 0.5890220403671265), ('평정', 0.5434197783470154), ('평', 0.5378557443618774), ('점수', 0.46702587604522705)]\n",
      "[('별점', 0.5890220403671265), ('평정', 0.5434197783470154), ('평', 0.5378557443618774), ('점수', 0.46702587604522705)]\n",
      "0.58902204\n",
      "(256,)\n"
     ]
    }
   ],
   "source": [
    "print(d2v_model.wv.most_similar('평점', topn=4))\n",
    " \n",
    "print(d2v_model.wv.most_similar('평점', topn=4))\n",
    "print(d2v_model.wv.similarity('평점', '별점'))\n",
    "\n",
    "print(d2v_model.wv['평점'].shape)"
   ]
  }
 ],
 "metadata": {
  "kernelspec": {
   "display_name": "Python 3",
   "language": "python",
   "name": "python3"
  },
  "language_info": {
   "codemirror_mode": {
    "name": "ipython",
    "version": 3
   },
   "file_extension": ".py",
   "mimetype": "text/x-python",
   "name": "python",
   "nbconvert_exporter": "python",
   "pygments_lexer": "ipython3",
   "version": "3.7.4"
  }
 },
 "nbformat": 4,
 "nbformat_minor": 1
}
